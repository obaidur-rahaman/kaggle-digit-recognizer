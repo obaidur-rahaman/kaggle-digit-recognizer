{
 "cells": [
  {
   "cell_type": "code",
   "execution_count": 1,
   "metadata": {
    "collapsed": false
   },
   "outputs": [
    {
     "name": "stderr",
     "output_type": "stream",
     "text": [
      "Using TensorFlow backend.\n"
     ]
    }
   ],
   "source": [
    "from keras.models import Sequential\n",
    "from keras.utils import np_utils\n",
    "from keras.layers.core import Dense, Activation, Dropout\n",
    "from sklearn.decomposition import PCA\n",
    "from sklearn.discriminant_analysis import LinearDiscriminantAnalysis as LDA\n",
    "from sklearn.manifold import TSNE"
   ]
  },
  {
   "cell_type": "code",
   "execution_count": 2,
   "metadata": {
    "collapsed": true
   },
   "outputs": [],
   "source": [
    "import pandas as pd\n",
    "import numpy as np"
   ]
  },
  {
   "cell_type": "markdown",
   "metadata": {},
   "source": [
    "Read Data"
   ]
  },
  {
   "cell_type": "code",
   "execution_count": 3,
   "metadata": {
    "collapsed": false
   },
   "outputs": [],
   "source": [
    "train = pd.read_csv('../input/train.csv')\n",
    "labels = train.ix[:,0].values.astype('int32')\n",
    "X_train = train.ix[:,1:].values.astype('float32')\n",
    "X_test = (pd.read_csv('../input/test.csv').values).astype('float32')"
   ]
  },
  {
   "cell_type": "code",
   "execution_count": 4,
   "metadata": {
    "collapsed": false
   },
   "outputs": [
    {
     "data": {
      "text/plain": [
       "array([1, 0, 1, ..., 7, 6, 9], dtype=int32)"
      ]
     },
     "execution_count": 4,
     "metadata": {},
     "output_type": "execute_result"
    }
   ],
   "source": [
    "labels"
   ]
  },
  {
   "cell_type": "markdown",
   "metadata": {},
   "source": [
    "Convert labels to class matrix"
   ]
  },
  {
   "cell_type": "code",
   "execution_count": 5,
   "metadata": {
    "collapsed": true
   },
   "outputs": [],
   "source": [
    "y_train = np_utils.to_categorical(labels)"
   ]
  },
  {
   "cell_type": "markdown",
   "metadata": {},
   "source": [
    "Preprocessing (standardization)"
   ]
  },
  {
   "cell_type": "code",
   "execution_count": 6,
   "metadata": {
    "collapsed": false
   },
   "outputs": [],
   "source": [
    "from sklearn.preprocessing import StandardScaler\n",
    "X_train = StandardScaler().fit_transform(X_train)\n",
    "X_test = StandardScaler().fit_transform(X_test)"
   ]
  },
  {
   "cell_type": "code",
   "execution_count": 7,
   "metadata": {
    "collapsed": false
   },
   "outputs": [],
   "source": [
    "# Call the PCA method with 200 components. \n",
    "pca = PCA(n_components=100)\n",
    "pca.fit(X_train)\n",
    "X_train = pca.transform(X_train)\n",
    "X_test = pca.transform(X_test)\n",
    "\n",
    "# Invoking the t-SNE method\n",
    "#tsne = TSNE()\n",
    "#X_train = tsne.fit_transform(X_train)\n",
    "#X_test = tsne.transform(X_test) "
   ]
  },
  {
   "cell_type": "code",
   "execution_count": 8,
   "metadata": {
    "collapsed": false
   },
   "outputs": [],
   "source": [
    "input_dim = X_train.shape[1]\n",
    "nb_classes = y_train.shape[1]"
   ]
  },
  {
   "cell_type": "markdown",
   "metadata": {},
   "source": [
    "Construction of deep dumb MLP (DDMLP)"
   ]
  },
  {
   "cell_type": "code",
   "execution_count": 9,
   "metadata": {
    "collapsed": false
   },
   "outputs": [],
   "source": [
    "model = Sequential()\n",
    "model.add(Dense(128, input_dim=input_dim))\n",
    "model.add(Activation('relu'))\n",
    "model.add(Dropout(0.15))\n",
    "model.add(Dense(128))\n",
    "model.add(Activation('relu'))\n",
    "model.add(Dropout(0.15))\n",
    "model.add(Dense(nb_classes))\n",
    "model.add(Activation('softmax'))"
   ]
  },
  {
   "cell_type": "code",
   "execution_count": 10,
   "metadata": {
    "collapsed": false
   },
   "outputs": [],
   "source": [
    "model.compile(loss='categorical_crossentropy',optimizer='rmsprop',metrics=['accuracy'])"
   ]
  },
  {
   "cell_type": "code",
   "execution_count": 11,
   "metadata": {
    "collapsed": false
   },
   "outputs": [
    {
     "name": "stderr",
     "output_type": "stream",
     "text": [
      "/home/obaidur/software/anaconda3/lib/python3.6/site-packages/keras/models.py:851: UserWarning: The `nb_epoch` argument in `fit` has been renamed `epochs`.\n",
      "  warnings.warn('The `nb_epoch` argument in `fit` '\n"
     ]
    },
    {
     "name": "stdout",
     "output_type": "stream",
     "text": [
      "Train on 37800 samples, validate on 4200 samples\n",
      "Epoch 1/20\n",
      "2s - loss: 0.4580 - acc: 0.8650 - val_loss: 0.1929 - val_acc: 0.9431\n",
      "Epoch 2/20\n",
      "2s - loss: 0.2198 - acc: 0.9359 - val_loss: 0.1552 - val_acc: 0.9545\n",
      "Epoch 3/20\n",
      "2s - loss: 0.1730 - acc: 0.9489 - val_loss: 0.1276 - val_acc: 0.9610\n",
      "Epoch 4/20\n",
      "2s - loss: 0.1474 - acc: 0.9565 - val_loss: 0.1197 - val_acc: 0.9657\n",
      "Epoch 5/20\n",
      "2s - loss: 0.1316 - acc: 0.9606 - val_loss: 0.1158 - val_acc: 0.9686\n",
      "Epoch 6/20\n",
      "2s - loss: 0.1174 - acc: 0.9649 - val_loss: 0.1172 - val_acc: 0.9683\n",
      "Epoch 7/20\n",
      "2s - loss: 0.1083 - acc: 0.9680 - val_loss: 0.1191 - val_acc: 0.9710\n",
      "Epoch 8/20\n",
      "2s - loss: 0.1029 - acc: 0.9699 - val_loss: 0.1063 - val_acc: 0.9683\n",
      "Epoch 9/20\n",
      "2s - loss: 0.0949 - acc: 0.9715 - val_loss: 0.1135 - val_acc: 0.9712\n",
      "Epoch 10/20\n",
      "2s - loss: 0.0906 - acc: 0.9724 - val_loss: 0.1072 - val_acc: 0.9736\n",
      "Epoch 11/20\n",
      "2s - loss: 0.0861 - acc: 0.9751 - val_loss: 0.1132 - val_acc: 0.9710\n",
      "Epoch 12/20\n",
      "2s - loss: 0.0823 - acc: 0.9764 - val_loss: 0.1160 - val_acc: 0.9702\n",
      "Epoch 13/20\n",
      "2s - loss: 0.0789 - acc: 0.9770 - val_loss: 0.1136 - val_acc: 0.9712\n",
      "Epoch 14/20\n",
      "2s - loss: 0.0804 - acc: 0.9761 - val_loss: 0.1050 - val_acc: 0.9740\n",
      "Epoch 15/20\n",
      "2s - loss: 0.0752 - acc: 0.9781 - val_loss: 0.1193 - val_acc: 0.9724\n",
      "Epoch 16/20\n",
      "2s - loss: 0.0772 - acc: 0.9778 - val_loss: 0.1156 - val_acc: 0.9750\n",
      "Epoch 17/20\n",
      "2s - loss: 0.0681 - acc: 0.9804 - val_loss: 0.1152 - val_acc: 0.9712\n",
      "Epoch 18/20\n",
      "2s - loss: 0.0700 - acc: 0.9793 - val_loss: 0.1191 - val_acc: 0.9743\n",
      "Epoch 19/20\n",
      "2s - loss: 0.0656 - acc: 0.9803 - val_loss: 0.1162 - val_acc: 0.9738\n",
      "Epoch 20/20\n",
      "2s - loss: 0.0658 - acc: 0.9816 - val_loss: 0.1190 - val_acc: 0.9750\n"
     ]
    },
    {
     "data": {
      "text/plain": [
       "<keras.callbacks.History at 0x7fa07d8b3dd8>"
      ]
     },
     "execution_count": 11,
     "metadata": {},
     "output_type": "execute_result"
    }
   ],
   "source": [
    "model.fit(X_train,y_train,nb_epoch=20,batch_size=64,validation_split=0.1,verbose=2)"
   ]
  },
  {
   "cell_type": "code",
   "execution_count": 12,
   "metadata": {
    "collapsed": true
   },
   "outputs": [],
   "source": [
    "preds = model.predict_classes(X_test,verbose=0)"
   ]
  },
  {
   "cell_type": "code",
   "execution_count": 13,
   "metadata": {
    "collapsed": false
   },
   "outputs": [
    {
     "data": {
      "text/plain": [
       "array([2, 0, 9, ..., 3, 9, 2])"
      ]
     },
     "execution_count": 13,
     "metadata": {},
     "output_type": "execute_result"
    }
   ],
   "source": [
    "preds"
   ]
  },
  {
   "cell_type": "code",
   "execution_count": 14,
   "metadata": {
    "collapsed": false
   },
   "outputs": [],
   "source": [
    "df_preds = pd.DataFrame({\"ImageID\":list(range(1,len(preds)+1)),\"Label\":preds})\n",
    "df_preds.to_csv(\"eda.csv\",index=False,header=True)"
   ]
  },
  {
   "cell_type": "code",
   "execution_count": null,
   "metadata": {
    "collapsed": true
   },
   "outputs": [],
   "source": []
  }
 ],
 "metadata": {
  "kernelspec": {
   "display_name": "Python 3",
   "language": "python",
   "name": "python3"
  },
  "language_info": {
   "codemirror_mode": {
    "name": "ipython",
    "version": 3
   },
   "file_extension": ".py",
   "mimetype": "text/x-python",
   "name": "python",
   "nbconvert_exporter": "python",
   "pygments_lexer": "ipython3",
   "version": "3.6.0"
  }
 },
 "nbformat": 4,
 "nbformat_minor": 2
}
